{
 "cells": [
  {
   "cell_type": "code",
   "execution_count": 2,
   "outputs": [],
   "source": [
    "import pandas as pd"
   ],
   "metadata": {
    "collapsed": false
   }
  },
  {
   "cell_type": "code",
   "execution_count": 4,
   "outputs": [],
   "source": [
    "import seaborn as sns"
   ],
   "metadata": {
    "collapsed": false
   }
  },
  {
   "cell_type": "markdown",
   "source": [
    "taken from this link:\n",
    "https://bioinformatics.stackexchange.com/questions/5642/how-to-plot-a-2d-rna-structure-in-python-using-dot-bracket-input\n",
    "\n",
    "The goal is to understand the secondary structure of RNA"
   ],
   "metadata": {
    "collapsed": false
   }
  },
  {
   "cell_type": "code",
   "execution_count": 5,
   "metadata": {
    "collapsed": true
   },
   "outputs": [],
   "source": [
    "def dot_bracket_to_pairs(ss_string):\n",
    "    '''\n",
    "    Takes dot and bracket string, returns dataframe\n",
    "    with paired bases.\n",
    "    If any invalid characters are in the structure, it\n",
    "    will interpret them as dots, as it only reads parentheses.\n",
    "    '''\n",
    "    index_list = []\n",
    "    pairs = {}\n",
    "\n",
    "    for index, char in enumerate(ss_string):\n",
    "        if char == '(':\n",
    "            index_list.append(index)\n",
    "        if char == ')':\n",
    "            try:\n",
    "                # pair to last item in the list in dictionary\n",
    "                pairs[index_list.pop()] = index\n",
    "            except IndexError:\n",
    "                print(f'Invalid structure, found extra \\')\\' in position {index}')\n",
    "\n",
    "    if len(index_list) != 0:\n",
    "        for item in index_list:\n",
    "            print(f'Invalid structure, found extra in \\'(\\' in position {item}')\n",
    "\n",
    "    df_pairs = pd.DataFrame(pairs.items(), columns=['Y', 'X'])\n",
    "\n",
    "    return df_pairs"
   ]
  },
  {
   "cell_type": "code",
   "execution_count": 6,
   "outputs": [
    {
     "data": {
      "text/plain": "<Axes: xlabel='X', ylabel='Y'>"
     },
     "execution_count": 6,
     "metadata": {},
     "output_type": "execute_result"
    },
    {
     "data": {
      "text/plain": "<Figure size 640x480 with 1 Axes>",
      "image/png": "[encoded data removed]"
     },
     "metadata": {},
     "output_type": "display_data"
    }
   ],
   "source": [
    "db_string = '((((((((((..(((((((.......)))))))......).((((((.......))))))..)))))))))'\n",
    "df = dot_bracket_to_pairs(db_string)\n",
    "\n",
    "sns.scatterplot(data=df, x=\"X\", y=\"Y\")"
   ],
   "metadata": {
    "collapsed": false
   }
  },
  {
   "cell_type": "markdown",
   "source": [
    "X is the position of the nucleotide in the input string read from the three prime end and Y is the position of the base in the input string which binds to that X, also read from the three prime end. This graph coresponds to the image secondary_structure_1.png\n"
   ],
   "metadata": {
    "collapsed": false
   }
  }
 ],
 "metadata": {
  "kernelspec": {
   "display_name": "Python 3",
   "language": "python",
   "name": "python3"
  },
  "language_info": {
   "codemirror_mode": {
    "name": "ipython",
    "version": 2
   },
   "file_extension": ".py",
   "mimetype": "text/x-python",
   "name": "python",
   "nbconvert_exporter": "python",
   "pygments_lexer": "ipython2",
   "version": "2.7.6"
  }
 },
 "nbformat": 4,
 "nbformat_minor": 0
}
