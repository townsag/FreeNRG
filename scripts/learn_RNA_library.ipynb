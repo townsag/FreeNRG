{
 "cells": [
  {
   "cell_type": "code",
   "execution_count": 1,
   "id": "b593fb97",
   "metadata": {},
   "outputs": [],
   "source": [
    "import sys\n",
    "sys.path.append(\"/usr/local/lib/python3.10/site-packages/\")"
   ]
  },
  {
   "cell_type": "code",
   "execution_count": 2,
   "id": "603d6279",
   "metadata": {},
   "outputs": [],
   "source": [
    "import RNA"
   ]
  },
  {
   "cell_type": "code",
   "execution_count": 3,
   "id": "bf6e6ee3",
   "metadata": {},
   "outputs": [
    {
     "name": "stdout",
     "output_type": "stream",
     "text": [
      "2.5.1\n"
     ]
    }
   ],
   "source": [
    "print(RNA.__version__)"
   ]
  },
  {
   "cell_type": "code",
   "execution_count": 4,
   "id": "c58aeb24",
   "metadata": {},
   "outputs": [
    {
     "name": "stdout",
     "output_type": "stream",
     "text": [
      "CUGCCUCACAACAUUUGUGCCUCAGUUACCCAUAGAUGUAGUGAGGGU\n",
      "...((((((.(((((((((...........))))))))).)))))).. [ -10.86 ]\n"
     ]
    }
   ],
   "source": [
    "# The RNA sequence alignment\n",
    "sequences = [\n",
    "    \"CUGCCUCACAACGUUUGUGCCUCAGUUACCCGUAGAUGUAGUGAGGGU\",\n",
    "    \"CUGCCUCACAACAUUUGUGCCUCAGUUACUCAUAGAUGUAGUGAGGGU\",\n",
    "    \"---CUCGACACCACU---GCCUCGGUUACCCAUCGGUGCAGUGCGGGU\"\n",
    "]\n",
    " \n",
    "# compute the consensus sequence\n",
    "cons = RNA.consensus(sequences)\n",
    " \n",
    "# predict Minmum Free Energy and corresponding secondary structure\n",
    "(ss, mfe) = RNA.alifold(sequences);\n",
    " \n",
    "# print output\n",
    "print(\"{}\\n{} [ {:6.2f} ]\".format(cons, ss, mfe))"
   ]
  },
  {
   "cell_type": "code",
   "execution_count": 5,
   "id": "ada4a898",
   "metadata": {},
   "outputs": [],
   "source": [
    "import numpy as np\n",
    "import pandas as pd"
   ]
  },
  {
   "cell_type": "code",
   "execution_count": 6,
   "id": "b0544153",
   "metadata": {},
   "outputs": [
    {
     "name": "stdout",
     "output_type": "stream",
     "text": [
      "1.24.3\n",
      "2.0.2\n"
     ]
    }
   ],
   "source": [
    "print(np.__version__)\n",
    "print(pd.__version__)"
   ]
  },
  {
   "cell_type": "code",
   "execution_count": 7,
   "id": "32583904",
   "metadata": {},
   "outputs": [],
   "source": [
    "def get_sequence_from_pattern(pattern: str):\n",
    "    \"\"\"\n",
    "    PT1: RYRY-4*N-3*(RY)-3*N-3*(RY)-4*N-3*(RY)-3*N-RYRY\n",
    "    R=(A, G), Y= (U, C), and N= (A, C, G, U).\n",
    "    \"\"\"\n",
    "    \n",
    "    pools = {\"R\":[\"A\", \"G\"], \"Y\":[\"U\", \"C\"], \"N\":[\"A\", \"C\", \"G\", \"U\"]}\n",
    "    \n",
    "    sequence = \"\"\n",
    "    \n",
    "    for character in pattern:\n",
    "        sequence += np.random.choice(pools[character])\n",
    "        \n",
    "    return sequence\n",
    "    \n",
    "    "
   ]
  },
  {
   "cell_type": "code",
   "execution_count": 30,
   "id": "a74d3cd3",
   "metadata": {},
   "outputs": [],
   "source": [
    "pattern1 = \"RYRYNNNNRYRYRYNNNRYRYRYNNNNRYRYRYNNNRYRY\"\n",
    "pattern2 = \"RRYYNNNRRYYNNNNRRYYNNRRYYNNNNRRYYNNNRRYY\"\n",
    "pattern3 = \"RRYYNNNRRRYYYNNNNRRRYYYNNNNRRRYYYNNNRRYY\"\n",
    "pattern4 = \"RRYYNNNRYRYRYNNNNRYRYRYNNNNRYRYRYNNNRYRY\""
   ]
  },
  {
   "cell_type": "code",
   "execution_count": 31,
   "id": "870f29a2",
   "metadata": {},
   "outputs": [
    {
     "name": "stdout",
     "output_type": "stream",
     "text": [
      "GUGUGCCUAUAUAUGGAGUGUGCAGAGGUGCGUUUGAUGU\n"
     ]
    }
   ],
   "source": [
    "print(get_sequence_from_pattern(pattern1))"
   ]
  },
  {
   "cell_type": "code",
   "execution_count": 32,
   "id": "a7f88f99",
   "metadata": {},
   "outputs": [],
   "source": [
    "sequences = []\n",
    "for n in range(100):\n",
    "    sequences.append(get_sequence_from_pattern(pattern1))\n",
    "for n in range(100):\n",
    "    sequences.append(get_sequence_from_pattern(pattern2))\n",
    "for n in range(100):\n",
    "    sequences.append(get_sequence_from_pattern(pattern3))\n",
    "for n in range(100):\n",
    "    sequences.append(get_sequence_from_pattern(pattern4))"
   ]
  },
  {
   "cell_type": "code",
   "execution_count": 33,
   "id": "90e31051",
   "metadata": {},
   "outputs": [
    {
     "name": "stdout",
     "output_type": "stream",
     "text": [
      "['ACGCCUACACGCGCACUAUACGCCGCCACACGCAUUAUAC', 'GUACAAGCAUGCGCUCUACGUACUCGAACGCAUACAACGC', 'GCGCGCUGACGCGUUAGGUGCAUCUGGAUGCACGACACAU', 'AUGCCUCGGCGCGCUAUGCAUAUUGUGGUAUAUAGGGCAC', 'GUAUCACCAUGUGCAGUGUGCGCCCGCGCGUAUAAGGUAU', 'AUAUCUUUGUGUGUAGUACACGCAAUGGCAUACGAAGUGU', 'ACGCCAGGGCGCGUCUUGCACAUUUGAGUGUGCUUUACGU', 'ACGUGUUCGUGCGUGAGGUAUACGUUUAUGUGUCCUGCAC', 'GCAUCGGGACGUACUCGGCGUAUGUCCACGCGCAGGACGU', 'ACACGUGGACAUGUUGGAUACACCCUGGUAUACUAAAUGU']\n"
     ]
    }
   ],
   "source": [
    "print(sequences[:10])"
   ]
  },
  {
   "cell_type": "code",
   "execution_count": 34,
   "id": "cdb792f2",
   "metadata": {},
   "outputs": [],
   "source": [
    "secondary_structure = []\n",
    "minimum_free_energies = []"
   ]
  },
  {
   "cell_type": "code",
   "execution_count": 35,
   "id": "cc023bea",
   "metadata": {},
   "outputs": [],
   "source": [
    "for seq in sequences:\n",
    "    (temp_ss, temp_mfe) = RNA.fold(seq)\n",
    "    secondary_structure.append(temp_ss)\n",
    "    minimum_free_energies.append(temp_mfe)"
   ]
  },
  {
   "cell_type": "code",
   "execution_count": 36,
   "id": "31479baa",
   "metadata": {},
   "outputs": [
    {
     "name": "stdout",
     "output_type": "stream",
     "text": [
      "['.(((......)))........((........)).......', '........(((((.((.........)).))))).......', '(((((....)))))...((((((....)))))).......', '..((....))((.(((((.((......)).))))).))..', '.....(((.(((((.(((((....)))))))))).)))..', '....((((((((((.((.......)).))))))))))...', '.(((....)))(((...((((((....))))))...))).', '........((((...(((.((((......)))))))))))', '((..((((((((((.....)))))))).)).)).......', '........((((.((((((((......)))).))))))))']\n",
      "[-3.0999999046325684, -5.5, -12.899999618530273, -9.699999809265137, -12.0, -9.600000381469727, -11.699999809265137, -9.0, -14.600000381469727, -5.599999904632568]\n"
     ]
    }
   ],
   "source": [
    "print(secondary_structure[:10])\n",
    "print(minimum_free_energies[:10])"
   ]
  },
  {
   "cell_type": "code",
   "execution_count": 37,
   "id": "a5c1c0d2",
   "metadata": {},
   "outputs": [],
   "source": [
    "data = {\n",
    "    'Secondary Structure': secondary_structure,\n",
    "    'Free Energy': minimum_free_energies\n",
    "}\n",
    "\n",
    "# Create the DataFrame\n",
    "all_sequences = pd.DataFrame(data, index=sequences)"
   ]
  },
  {
   "cell_type": "code",
   "execution_count": 38,
   "id": "a110de83",
   "metadata": {},
   "outputs": [
    {
     "name": "stdout",
     "output_type": "stream",
     "text": [
      "(400, 2)\n"
     ]
    }
   ],
   "source": [
    "print(all_sequences.shape)"
   ]
  },
  {
   "cell_type": "code",
   "execution_count": null,
   "id": "1e78ae55",
   "metadata": {},
   "outputs": [],
   "source": [
    "\"\"\"\n",
    "The cutoff energy for sequence selection was chosen as ΔGmean−SD=−9.5 kcal/mol \n",
    "based on values for the random sequences which is higher than the mean energy \n",
    "value for the patterned sequences.\n",
    "\"\"\""
   ]
  },
  {
   "cell_type": "code",
   "execution_count": 39,
   "id": "cf7f0d91",
   "metadata": {},
   "outputs": [],
   "source": [
    "filtered_sequences = all_sequences[all_sequences[\"Free Energy\"] < -9.5]"
   ]
  },
  {
   "cell_type": "code",
   "execution_count": 40,
   "id": "d17fe478",
   "metadata": {},
   "outputs": [
    {
     "name": "stdout",
     "output_type": "stream",
     "text": [
      "(147, 2)\n"
     ]
    }
   ],
   "source": [
    "print(filtered_sequences.shape)"
   ]
  },
  {
   "cell_type": "code",
   "execution_count": 41,
   "id": "ac400bfa",
   "metadata": {},
   "outputs": [
    {
     "data": {
      "text/html": [
       "<div>\n",
       "<style scoped>\n",
       "    .dataframe tbody tr th:only-of-type {\n",
       "        vertical-align: middle;\n",
       "    }\n",
       "\n",
       "    .dataframe tbody tr th {\n",
       "        vertical-align: top;\n",
       "    }\n",
       "\n",
       "    .dataframe thead th {\n",
       "        text-align: right;\n",
       "    }\n",
       "</style>\n",
       "<table border=\"1\" class=\"dataframe\">\n",
       "  <thead>\n",
       "    <tr style=\"text-align: right;\">\n",
       "      <th></th>\n",
       "      <th>Secondary Structure</th>\n",
       "      <th>Free Energy</th>\n",
       "    </tr>\n",
       "  </thead>\n",
       "  <tbody>\n",
       "    <tr>\n",
       "      <th>GCGCGCUGACGCGUUAGGUGCAUCUGGAUGCACGACACAU</th>\n",
       "      <td>(((((....)))))...((((((....)))))).......</td>\n",
       "      <td>-12.9</td>\n",
       "    </tr>\n",
       "    <tr>\n",
       "      <th>AUGCCUCGGCGCGCUAUGCAUAUUGUGGUAUAUAGGGCAC</th>\n",
       "      <td>..((....))((.(((((.((......)).))))).))..</td>\n",
       "      <td>-9.7</td>\n",
       "    </tr>\n",
       "    <tr>\n",
       "      <th>GUAUCACCAUGUGCAGUGUGCGCCCGCGCGUAUAAGGUAU</th>\n",
       "      <td>.....(((.(((((.(((((....)))))))))).)))..</td>\n",
       "      <td>-12.0</td>\n",
       "    </tr>\n",
       "    <tr>\n",
       "      <th>AUAUCUUUGUGUGUAGUACACGCAAUGGCAUACGAAGUGU</th>\n",
       "      <td>....((((((((((.((.......)).))))))))))...</td>\n",
       "      <td>-9.6</td>\n",
       "    </tr>\n",
       "    <tr>\n",
       "      <th>ACGCCAGGGCGCGUCUUGCACAUUUGAGUGUGCUUUACGU</th>\n",
       "      <td>.(((....)))(((...((((((....))))))...))).</td>\n",
       "      <td>-11.7</td>\n",
       "    </tr>\n",
       "  </tbody>\n",
       "</table>\n",
       "</div>"
      ],
      "text/plain": [
       "                                                               Secondary Structure  \\\n",
       "GCGCGCUGACGCGUUAGGUGCAUCUGGAUGCACGACACAU  (((((....)))))...((((((....)))))).......   \n",
       "AUGCCUCGGCGCGCUAUGCAUAUUGUGGUAUAUAGGGCAC  ..((....))((.(((((.((......)).))))).))..   \n",
       "GUAUCACCAUGUGCAGUGUGCGCCCGCGCGUAUAAGGUAU  .....(((.(((((.(((((....)))))))))).)))..   \n",
       "AUAUCUUUGUGUGUAGUACACGCAAUGGCAUACGAAGUGU  ....((((((((((.((.......)).))))))))))...   \n",
       "ACGCCAGGGCGCGUCUUGCACAUUUGAGUGUGCUUUACGU  .(((....)))(((...((((((....))))))...))).   \n",
       "\n",
       "                                          Free Energy  \n",
       "GCGCGCUGACGCGUUAGGUGCAUCUGGAUGCACGACACAU        -12.9  \n",
       "AUGCCUCGGCGCGCUAUGCAUAUUGUGGUAUAUAGGGCAC         -9.7  \n",
       "GUAUCACCAUGUGCAGUGUGCGCCCGCGCGUAUAAGGUAU        -12.0  \n",
       "AUAUCUUUGUGUGUAGUACACGCAAUGGCAUACGAAGUGU         -9.6  \n",
       "ACGCCAGGGCGCGUCUUGCACAUUUGAGUGUGCUUUACGU        -11.7  "
      ]
     },
     "metadata": {},
     "output_type": "display_data"
    }
   ],
   "source": [
    "display(filtered_sequences.head(5))"
   ]
  },
  {
   "cell_type": "code",
   "execution_count": null,
   "id": "9f8ea205",
   "metadata": {},
   "outputs": [],
   "source": [
    "\"\"\"\n",
    "Therefore, we set a constraint that the secondary structure of our sequences with 40 \n",
    "bases should have at least 11 unpaired bases. This number seemed optimal, since a \n",
    "higher number of unpaired bases will significantly reduce the presence of sequences \n",
    "with high secondary structure free energy while a lower number will reduce the \n",
    "potential sites for ligand binding.\n",
    "\n",
    "Based on these findings, we developed a set of criteria that limited the presence of \n",
    "sequences with abundant simple structural motifs and maximized the presence of stable \n",
    "low-energy structures. For the pool of 40-mer sequences these criteria are as follows [4]: \n",
    "(1) in the lowest energy conformation bases 1 and 2 form pairs with bases 40 and 39; \n",
    "(2) the free energy of secondary structure formation is less than −9.5 kcal/mol; \n",
    "(3) there are at least 11 bases that do NOT form Watson–Crick pairs. Only the sequences \n",
    "    that passed the selection criteria were forwarded to the next step in the selection process.\n",
    "\"\"\""
   ]
  }
 ],
 "metadata": {
  "kernelspec": {
   "display_name": "Python 3 (ipykernel)",
   "language": "python",
   "name": "python3"
  },
  "language_info": {
   "codemirror_mode": {
    "name": "ipython",
    "version": 3
   },
   "file_extension": ".py",
   "mimetype": "text/x-python",
   "name": "python",
   "nbconvert_exporter": "python",
   "pygments_lexer": "ipython3",
   "version": "3.10.11"
  }
 },
 "nbformat": 4,
 "nbformat_minor": 5
}
